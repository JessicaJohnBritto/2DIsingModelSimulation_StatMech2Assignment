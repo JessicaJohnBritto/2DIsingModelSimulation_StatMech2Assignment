{
  "nbformat": 4,
  "nbformat_minor": 0,
  "metadata": {
    "colab": {
      "provenance": []
    },
    "kernelspec": {
      "name": "python3",
      "display_name": "Python 3"
    },
    "language_info": {
      "name": "python"
    }
  },
  "cells": [
    {
      "cell_type": "markdown",
      "source": [
        "Sampling"
      ],
      "metadata": {
        "id": "AChwTatUC9yV"
      }
    },
    {
      "cell_type": "code",
      "execution_count": null,
      "metadata": {
        "id": "iSuiH08fClLl"
      },
      "outputs": [],
      "source": [
        "import numpy as np\n",
        "from numpy.random import rand\n",
        "import matplotlib.pyplot as plt"
      ]
    },
    {
      "cell_type": "code",
      "source": [
        "def initial_config(N):\n",
        "  initconfig = 2*np.random.randint(2, size=(N,N))-1\n",
        "  return initconfig"
      ],
      "metadata": {
        "id": "MbyMMr-Mr7SN"
      },
      "execution_count": null,
      "outputs": []
    },
    {
      "cell_type": "code",
      "source": [
        "print(initial_config(20))\n",
        "print(len(initial_config(20)))"
      ],
      "metadata": {
        "colab": {
          "base_uri": "https://localhost:8080/"
        },
        "id": "RIPsywsYtrjd",
        "outputId": "31e31376-d158-498f-b6da-f490ecb84fea"
      },
      "execution_count": null,
      "outputs": [
        {
          "output_type": "stream",
          "name": "stdout",
          "text": [
            "[[ 1 -1  1 -1 -1 -1  1 -1 -1 -1 -1  1 -1  1  1  1 -1  1  1 -1]\n",
            " [-1 -1  1  1 -1  1  1 -1  1  1  1  1  1  1 -1 -1 -1 -1 -1 -1]\n",
            " [-1 -1 -1  1 -1 -1 -1 -1  1  1  1 -1  1 -1  1  1  1  1  1 -1]\n",
            " [ 1 -1  1  1 -1 -1  1 -1 -1 -1 -1 -1  1  1 -1 -1 -1 -1  1  1]\n",
            " [ 1  1 -1  1 -1  1  1  1  1  1  1  1  1  1 -1  1 -1  1 -1  1]\n",
            " [-1  1 -1  1 -1  1 -1 -1 -1 -1  1  1  1  1  1 -1 -1  1 -1 -1]\n",
            " [ 1 -1 -1  1  1 -1  1  1 -1 -1 -1  1  1 -1 -1 -1 -1  1  1  1]\n",
            " [-1 -1 -1  1 -1 -1  1 -1  1 -1 -1 -1 -1 -1 -1 -1  1 -1  1 -1]\n",
            " [ 1 -1 -1 -1  1  1 -1 -1  1 -1  1  1 -1  1  1  1 -1 -1 -1 -1]\n",
            " [-1  1 -1  1 -1 -1 -1 -1  1  1 -1  1  1 -1  1 -1  1  1 -1 -1]\n",
            " [-1 -1  1  1 -1 -1  1  1 -1  1 -1 -1  1  1  1  1 -1 -1 -1 -1]\n",
            " [ 1  1 -1  1 -1  1  1  1 -1  1  1  1 -1  1  1  1  1  1  1 -1]\n",
            " [-1 -1 -1 -1  1 -1 -1  1  1  1  1  1  1 -1 -1 -1  1  1 -1  1]\n",
            " [ 1 -1  1  1  1 -1  1  1  1  1  1  1  1  1  1  1 -1 -1  1 -1]\n",
            " [ 1  1  1  1  1 -1 -1 -1  1 -1 -1 -1 -1 -1  1 -1  1 -1  1  1]\n",
            " [-1  1 -1 -1  1 -1  1 -1  1  1 -1  1 -1  1  1  1  1 -1 -1 -1]\n",
            " [ 1  1  1  1 -1  1  1  1 -1 -1 -1 -1 -1  1 -1  1 -1  1 -1 -1]\n",
            " [ 1 -1 -1 -1 -1 -1  1 -1 -1 -1 -1  1 -1 -1 -1  1  1 -1  1 -1]\n",
            " [-1  1  1 -1 -1 -1  1 -1  1 -1  1 -1  1 -1 -1  1 -1 -1  1 -1]\n",
            " [-1 -1 -1  1  1  1 -1  1  1  1  1  1  1  1  1 -1  1  1 -1  1]]\n",
            "20\n"
          ]
        }
      ]
    },
    {
      "cell_type": "code",
      "source": [
        "plt.imshow(initial_config(20))"
      ],
      "metadata": {
        "colab": {
          "base_uri": "https://localhost:8080/",
          "height": 447
        },
        "id": "S0X6h1UuumxW",
        "outputId": "c17fdcdd-fea0-455d-b325-afc3bd4fb0b2"
      },
      "execution_count": null,
      "outputs": [
        {
          "output_type": "execute_result",
          "data": {
            "text/plain": [
              "<matplotlib.image.AxesImage at 0x7dda9ca97760>"
            ]
          },
          "metadata": {},
          "execution_count": 23
        },
        {
          "output_type": "display_data",
          "data": {
            "text/plain": [
              "<Figure size 640x480 with 1 Axes>"
            ],
            "image/png": "[encoded data removed]"
          },
          "metadata": {}
        }
      ]
    },
    {
      "cell_type": "code",
      "source": [
        "def energy_config(config,  **kwargs):\n",
        "  energy = 0\n",
        "  N = len(config)\n",
        "  for i in range(N):\n",
        "    for j in range(N):\n",
        "      energy += (config[(i+1)% N][j] + config[(i-1)% N][j] + config[i][(j+1)% N] + config[i][(j-1)% N])*(config[i][j])*(-1)\n",
        "  return energy/4\n",
        "\n",
        "state = initial_config(20)\n",
        "print(energy_config(state))"
      ],
      "metadata": {
        "colab": {
          "base_uri": "https://localhost:8080/"
        },
        "id": "MEK5MwFa0g4e",
        "outputId": "00a3222f-9a67-4721-985a-c10e7c469097"
      },
      "execution_count": null,
      "outputs": [
        {
          "output_type": "stream",
          "name": "stdout",
          "text": [
            "-12.0\n"
          ]
        }
      ]
    },
    {
      "cell_type": "code",
      "source": [],
      "metadata": {
        "id": "7dJjBRBq92Tv"
      },
      "execution_count": null,
      "outputs": []
    }
  ]
}